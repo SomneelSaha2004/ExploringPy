{
 "cells": [
  {
   "cell_type": "code",
   "execution_count": 2,
   "metadata": {},
   "outputs": [],
   "source": [
    "class Point():\n",
    "    def __init__(self,x:int=0,y:int=0,z:int=0):\n",
    "        self.x=x\n",
    "        self.y=y\n",
    "        self.z=z\n",
    "    def show(self):\n",
    "        print((self.x,self.y,self.z))\n",
    "    "
   ]
  },
  {
   "cell_type": "code",
   "execution_count": 4,
   "metadata": {},
   "outputs": [
    {
     "name": "stdout",
     "output_type": "stream",
     "text": [
      "(3, 2, 3)\n"
     ]
    }
   ],
   "source": [
    "p=Point(y=2,x=3,z=3)\n",
    "p.show()"
   ]
  },
  {
   "cell_type": "code",
   "execution_count": 8,
   "metadata": {},
   "outputs": [
    {
     "data": {
      "text/plain": [
       "'0x17'"
      ]
     },
     "execution_count": 8,
     "metadata": {},
     "output_type": "execute_result"
    }
   ],
   "source": [
    "hex(23)"
   ]
  },
  {
   "cell_type": "code",
   "execution_count": 13,
   "metadata": {},
   "outputs": [
    {
     "name": "stdout",
     "output_type": "stream",
     "text": [
      "No of and : 2\n",
      "No of an : 2\n"
     ]
    }
   ],
   "source": [
    "class Frequency():\n",
    "    def __init__(self):\n",
    "        self.text=\"\"\n",
    "        self.countand=0\n",
    "        self.countan=0\n",
    "        self.length=0\n",
    "    def accept(self):\n",
    "        self.text=input(\"Enter sentence : \")\n",
    "        self.length=len(self.text)\n",
    "    def checkand_anfreq(self):\n",
    "        words=self.text.lower().split()\n",
    "        for word in words:\n",
    "            if word==\"and\":\n",
    "                self.countand+=1\n",
    "            elif word==\"an\":\n",
    "                self.countan+=1\n",
    "    def display(self):\n",
    "        print(f\"No of and : {self.countand}\\nNo of an : {self.countan}\")\n",
    "\n",
    "f=Frequency()\n",
    "f.accept()\n",
    "f.checkand_anfreq()\n",
    "f.display()\n",
    "        "
   ]
  },
  {
   "cell_type": "code",
   "execution_count": 15,
   "metadata": {},
   "outputs": [
    {
     "data": {
      "text/plain": [
       "6.285714285714286"
      ]
     },
     "execution_count": 15,
     "metadata": {},
     "output_type": "execute_result"
    }
   ],
   "source": [
    "class Circle():\n",
    "    pi=22/7\n",
    "    def __init__(self,radius=1):\n",
    "        self.r=radius\n",
    "    def perimeter(self):\n",
    "        return 2*self.pi*self.r\n",
    "    def area(self):\n",
    "        return Circle.pi*self.r**2# we can reference class attribute pi with class name\n",
    "c=Circle()\n",
    "c.perimeter()"
   ]
  },
  {
   "cell_type": "code",
   "execution_count": null,
   "metadata": {},
   "outputs": [],
   "source": []
  }
 ],
 "metadata": {
  "kernelspec": {
   "display_name": "Python 3",
   "language": "python",
   "name": "python3"
  },
  "language_info": {
   "codemirror_mode": {
    "name": "ipython",
    "version": 3
   },
   "file_extension": ".py",
   "mimetype": "text/x-python",
   "name": "python",
   "nbconvert_exporter": "python",
   "pygments_lexer": "ipython3",
   "version": "3.10.6"
  },
  "orig_nbformat": 4
 },
 "nbformat": 4,
 "nbformat_minor": 2
}

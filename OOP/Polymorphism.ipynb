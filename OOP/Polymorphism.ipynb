{
 "cells": [
  {
   "cell_type": "code",
   "execution_count": 22,
   "metadata": {},
   "outputs": [],
   "source": [
    "import math\n",
    "class Point2D():\n",
    "    def __init__(self,x=0,y=0):\n",
    "        self.x=x\n",
    "        self.y=y\n",
    "    def coordinates(self):\n",
    "        return (self.x,self.y)\n",
    "    def distance(self,p:\"Point2D\"):\n",
    "        return math.sqrt(((self.x-p.x)**2-(self.y-p.y)**2))\n",
    "    def anglTo(self,p:\"Point2D\"):\n",
    "        slope=(self.y-p.y)/(self.x-p.x)\n",
    "        return math.atan(slope)\n",
    "    def __gt__(self,other):\n",
    "        if(self.coordinates()>other.coordinates()):\n",
    "            return True\n",
    "        else:\n",
    "            False\n",
    "    def __str__(self):\n",
    "        return f\"{(self.x,self.y)}\"\n",
    "    # def distance(self,x:int,y:int):\n",
    "    #     return ((self.x-x)**2-(self.y-y)**2)**(0.5)\n",
    "    # def anglTo(self,x,y):\n",
    "    #     slope=(self.y-y)/(self.x-x)\n",
    "    #     return math.atan(slope)"
   ]
  },
  {
   "cell_type": "code",
   "execution_count": 41,
   "metadata": {},
   "outputs": [],
   "source": [
    "class Line():\n",
    "    def __init__(self,p1:Point2D,p2:Point2D):\n",
    "        \n",
    "        self.slope=(p2.y-p1.y)/(p2.x-p1.x)\n",
    "        self.points=[p1,p2]\n",
    "    def addPoint(self,p:Point2D):\n",
    "        start=self.points[0]\n",
    "        slope=(start.y-p.y)/(start.x-p.x)\n",
    "        if (slope==self.slope):\n",
    "            self.points.append(p)\n",
    "            self.points.sort()\n",
    "        else:\n",
    "            print(f\"{p.coordinates} cannot be added as slope is different\")\n",
    "    def length(self):\n",
    "        return self.points[0].distance(self.points[-1])\n",
    "    def displayPoints(self):\n",
    "        for point in self.points:\n",
    "            print(f\"{point.coordinates()} \",end=\"\")\n",
    "    def __str__(self):\n",
    "        s=\"\"\n",
    "        for point in self.points:\n",
    "            s+=str(point)+\" \"\n",
    "        return s\n",
    "    def __len__(self):\n",
    "        return len(self.points)\n"
   ]
  },
  {
   "cell_type": "code",
   "execution_count": 42,
   "metadata": {},
   "outputs": [],
   "source": [
    "l=Line(Point2D(2,3),Point2D(4,5))"
   ]
  },
  {
   "cell_type": "code",
   "execution_count": 12,
   "metadata": {},
   "outputs": [
    {
     "name": "stdout",
     "output_type": "stream",
     "text": [
      "(2, 3) (4, 5) "
     ]
    }
   ],
   "source": [
    "l.displayPoints()"
   ]
  },
  {
   "cell_type": "code",
   "execution_count": 29,
   "metadata": {},
   "outputs": [],
   "source": [
    "l.addPoint(Point2D(3,4))"
   ]
  },
  {
   "cell_type": "code",
   "execution_count": 40,
   "metadata": {},
   "outputs": [
    {
     "name": "stdout",
     "output_type": "stream",
     "text": [
      "(2, 3) (4, 5) \n"
     ]
    }
   ],
   "source": [
    "print(l)"
   ]
  },
  {
   "cell_type": "code",
   "execution_count": 43,
   "metadata": {},
   "outputs": [
    {
     "data": {
      "text/plain": [
       "2"
      ]
     },
     "execution_count": 43,
     "metadata": {},
     "output_type": "execute_result"
    }
   ],
   "source": [
    "len(l)"
   ]
  },
  {
   "cell_type": "code",
   "execution_count": 49,
   "metadata": {},
   "outputs": [],
   "source": [
    "class Circle():\n",
    "    pi=math.pi\n",
    "    def __init__(self,radius:float):\n",
    "        self.r=radius\n",
    "    def perimeter(self)->float:\n",
    "        return 2*self.pi*self.r\n",
    "    def area(self):\n",
    "        return self.pi*self.r**2\n",
    "    def __str__(self):\n",
    "        return f\"Radius : {self.r}\\nArea : {self.area()}\"\n",
    "    def __gt__(self,other):\n",
    "        return self.r>other.r\n",
    "    def __lt__(self,other):\n",
    "        return self.r<other.r\n",
    "    def __len__(self):\n",
    "        return self.perimeter\n",
    "    def __eq__(self,other):\n",
    "        return self.r==other.r"
   ]
  },
  {
   "cell_type": "code",
   "execution_count": 50,
   "metadata": {},
   "outputs": [],
   "source": [
    "c1=Circle(3.5)"
   ]
  },
  {
   "cell_type": "code",
   "execution_count": 46,
   "metadata": {},
   "outputs": [
    {
     "name": "stdout",
     "output_type": "stream",
     "text": [
      "Radius : 3.5\n",
      "Area : 38.48451000647496\n"
     ]
    }
   ],
   "source": [
    "print(c1)"
   ]
  },
  {
   "cell_type": "code",
   "execution_count": 51,
   "metadata": {},
   "outputs": [],
   "source": [
    "c2=Circle(7)"
   ]
  },
  {
   "cell_type": "code",
   "execution_count": 48,
   "metadata": {},
   "outputs": [
    {
     "data": {
      "text/plain": [
       "False"
      ]
     },
     "execution_count": 48,
     "metadata": {},
     "output_type": "execute_result"
    }
   ],
   "source": [
    "c1>c2"
   ]
  },
  {
   "cell_type": "code",
   "execution_count": 52,
   "metadata": {},
   "outputs": [
    {
     "data": {
      "text/plain": [
       "False"
      ]
     },
     "execution_count": 52,
     "metadata": {},
     "output_type": "execute_result"
    }
   ],
   "source": [
    "c1==c2"
   ]
  },
  {
   "cell_type": "code",
   "execution_count": 53,
   "metadata": {},
   "outputs": [],
   "source": [
    "class Rectangle():\n",
    "    def __init__(self,l:float,b:float):\n",
    "        self.l=l\n",
    "        self.b=b\n",
    "    def perimeter(self):\n",
    "        return 2*(self.l+self.b)\n",
    "    def area(self):\n",
    "        return self.l*self.b\n",
    "    def __str__(self):\n",
    "        return f\"length : {self.l}\\nbreadth : {self.b}\"\n",
    "    def __gt__(self,other:\"Rectangle\"):\n",
    "        return self.area()>other.area()\n",
    "    def __lt__(self,other:\"Rectangle\"):\n",
    "        return self.area()<other.area()\n",
    "    def __eq__(self, __value: \"Rectangle\") -> bool:\n",
    "        return self.area()==__value.area()\n",
    "    "
   ]
  },
  {
   "cell_type": "code",
   "execution_count": 55,
   "metadata": {},
   "outputs": [
    {
     "data": {
      "text/plain": [
       "False"
      ]
     },
     "execution_count": 55,
     "metadata": {},
     "output_type": "execute_result"
    }
   ],
   "source": [
    "r=Rectangle(23,4)\n",
    "o=Rectangle(33,4)\n",
    "r==o"
   ]
  },
  {
   "cell_type": "code",
   "execution_count": null,
   "metadata": {},
   "outputs": [],
   "source": []
  }
 ],
 "metadata": {
  "kernelspec": {
   "display_name": "Python 3",
   "language": "python",
   "name": "python3"
  },
  "language_info": {
   "codemirror_mode": {
    "name": "ipython",
    "version": 3
   },
   "file_extension": ".py",
   "mimetype": "text/x-python",
   "name": "python",
   "nbconvert_exporter": "python",
   "pygments_lexer": "ipython3",
   "version": "3.10.6"
  },
  "orig_nbformat": 4
 },
 "nbformat": 4,
 "nbformat_minor": 2
}

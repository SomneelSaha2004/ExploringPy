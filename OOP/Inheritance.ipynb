{
 "cells": [
  {
   "cell_type": "code",
   "execution_count": 1,
   "metadata": {},
   "outputs": [],
   "source": [
    "class Detail():\n",
    "    def __init__(self,name:str,address:str,telno:int,rent:float)->None:\n",
    "        self.name=name\n",
    "        self.address=address\n",
    "        self.telno=telno\n",
    "        self.rent=rent\n",
    "\n",
    "    def show(self)->None:\n",
    "        print(f\"Name : {self.name}\\nAddress : {self.address}\\nTelephone Number : {self.telno}\\nRental Charge : {self.rent}\")"
   ]
  },
  {
   "cell_type": "code",
   "execution_count": 11,
   "metadata": {},
   "outputs": [],
   "source": [
    "class Bill(Detail):\n",
    "    def __init__(self,name:str,address:str,telno:int,rent:float,n:int):\n",
    "        Detail.__init__(self,name,address,telno,rent)\n",
    "        self.n=n\n",
    "        self.amt=0.0\n",
    "    def cal(self)->None:\n",
    "        if(self.n in range(1,101)):\n",
    "            self.amt=self.rent\n",
    "        elif(self.n in range(101,201)):\n",
    "            self.amt=0.60*self.n+self.rent\n",
    "        elif(self.n in range(201,300)):\n",
    "            self.amt=0.80*self.n+self.rent\n",
    "        else:\n",
    "            self.amt=self.n+self.rent\n",
    "    def show(self)->None:\n",
    "        Detail.show(self)\n",
    "        print(f\"Number of calls : {self.n}\\nTotal Amount : {self.amt}\")\n"
   ]
  },
  {
   "cell_type": "code",
   "execution_count": 12,
   "metadata": {},
   "outputs": [],
   "source": [
    "b=Bill(\"Somneel\",\"Greater Kaliash 1 \",9811906630,3500,250)"
   ]
  },
  {
   "cell_type": "code",
   "execution_count": 13,
   "metadata": {},
   "outputs": [
    {
     "name": "stdout",
     "output_type": "stream",
     "text": [
      "Name : Somneel\n",
      "Address : Greater Kaliash 1 \n",
      "Telephone Number : 9811906630\n",
      "Rental Charge : 3500\n",
      "Number of calls : 250\n",
      "Total Amount : 3700.0\n"
     ]
    }
   ],
   "source": [
    "b.cal()\n",
    "b.show()"
   ]
  },
  {
   "cell_type": "code",
   "execution_count": 19,
   "metadata": {},
   "outputs": [],
   "source": [
    "class Meter():\n",
    "    def __init__(self,meternum:int,mcharge:float,prRead:int):\n",
    "        self.meternum=meternum\n",
    "        self.name=\"\"\n",
    "        self.mcharg=mcharge\n",
    "        self.prRead=prRead\n",
    "    def readname(self)->None:\n",
    "        self.name=input(\"Enter Name : \")\n",
    "class ElectricityBill(Meter):\n",
    "    def __init__(self, meternum: int, mcharge: float, prRead: int,crRead:int,rate:float):\n",
    "        super().__init__(meternum, mcharge, prRead)\n",
    "        self.crRead=crRead\n",
    "        self.rate=rate\n",
    "        self.unit=0\n",
    "        self.amt=0\n",
    "        self.readname()\n",
    "    def calculations(self)->float:\n",
    "        return (self.crRead-self.prRead)*self.rate\n",
    "    def dispBill(self):\n",
    "        print(f\"Meter Number : {self.meternum}\\nName : {self.name}\\nAmount : {self.calculations()}\")\n"
   ]
  },
  {
   "cell_type": "code",
   "execution_count": 20,
   "metadata": {},
   "outputs": [],
   "source": [
    "b=ElectricityBill(12312,23,45,50,5)"
   ]
  },
  {
   "cell_type": "code",
   "execution_count": 21,
   "metadata": {},
   "outputs": [
    {
     "name": "stdout",
     "output_type": "stream",
     "text": [
      "Meter Number : 12312\n",
      "Name : Somnee\n",
      "Amount : 25\n"
     ]
    }
   ],
   "source": [
    "b.dispBill()"
   ]
  },
  {
   "cell_type": "code",
   "execution_count": null,
   "metadata": {},
   "outputs": [],
   "source": []
  }
 ],
 "metadata": {
  "kernelspec": {
   "display_name": "Python 3",
   "language": "python",
   "name": "python3"
  },
  "language_info": {
   "codemirror_mode": {
    "name": "ipython",
    "version": 3
   },
   "file_extension": ".py",
   "mimetype": "text/x-python",
   "name": "python",
   "nbconvert_exporter": "python",
   "pygments_lexer": "ipython3",
   "version": "3.10.6"
  },
  "orig_nbformat": 4
 },
 "nbformat": 4,
 "nbformat_minor": 2
}

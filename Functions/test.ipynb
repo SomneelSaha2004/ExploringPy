{
 "cells": [
  {
   "cell_type": "code",
   "execution_count": 9,
   "metadata": {},
   "outputs": [
    {
     "name": "stdout",
     "output_type": "stream",
     "text": [
      "2\n",
      "3\n",
      "5\n",
      "7\n",
      "11\n",
      "13\n",
      "17\n",
      "19\n",
      "23\n",
      "29\n"
     ]
    }
   ],
   "source": [
    "def isPrime(n):\n",
    "    for i in range(2,n):\n",
    "        if n%i==0:\n",
    "            return False\n",
    "    return True\n",
    "def printPrimes(n=10):\n",
    "    count=1\n",
    "    num=2\n",
    "    while(count<=n):\n",
    "        if(isPrime(num)):\n",
    "            print(num)\n",
    "            count+=1\n",
    "        num+=1\n",
    "        \n",
    "\n",
    "printPrimes()"
   ]
  },
  {
   "cell_type": "code",
   "execution_count": 17,
   "metadata": {},
   "outputs": [
    {
     "name": "stdout",
     "output_type": "stream",
     "text": [
      "[True, True, True]\n"
     ]
    },
    {
     "data": {
      "text/plain": [
       "True"
      ]
     },
     "execution_count": 17,
     "metadata": {},
     "output_type": "execute_result"
    }
   ],
   "source": [
    "def anyIsEven(l:list)-> bool :\n",
    "    return True in [True for b in l if b%2==0]\n",
    "anyIsEven([1,2,3,33,22,11,4])"
   ]
  },
  {
   "cell_type": "code",
   "execution_count": 20,
   "metadata": {},
   "outputs": [
    {
     "data": {
      "text/plain": [
       "False"
      ]
     },
     "execution_count": 20,
     "metadata": {},
     "output_type": "execute_result"
    }
   ],
   "source": [
    "#above function is just lazy\n",
    "def anyIsEven(l):\n",
    "    for i in l:\n",
    "        if i%2==0:\n",
    "            return True\n",
    "    return False\n",
    "anyIsEven([1,3,5])"
   ]
  },
  {
   "cell_type": "code",
   "execution_count": 22,
   "metadata": {},
   "outputs": [
    {
     "data": {
      "text/plain": [
       "[2, 6, 2]"
      ]
     },
     "execution_count": 22,
     "metadata": {},
     "output_type": "execute_result"
    }
   ],
   "source": [
    "def returnEven(l:list)->list:\n",
    "    return [num for num in l if num%2==0]\n",
    "returnEven([1,2,1,5,6,2])"
   ]
  },
  {
   "cell_type": "code",
   "execution_count": 23,
   "metadata": {},
   "outputs": [
    {
     "name": "stdout",
     "output_type": "stream",
     "text": [
      "('a', 'f')\n",
      "('b', 'c')\n"
     ]
    },
    {
     "data": {
      "text/plain": [
       "[None, None]"
      ]
     },
     "execution_count": 23,
     "metadata": {},
     "output_type": "execute_result"
    }
   ],
   "source": [
    "d={'a':'f','b':\"c\"}\n",
    "[print((a,b)) for (a,b) in d.items()]"
   ]
  },
  {
   "cell_type": "code",
   "execution_count": 28,
   "metadata": {},
   "outputs": [
    {
     "data": {
      "text/plain": [
       "('Zbby', 100)"
      ]
     },
     "execution_count": 28,
     "metadata": {},
     "output_type": "execute_result"
    }
   ],
   "source": [
    "def best_employee(l:list)->tuple:\n",
    "    \n",
    "    for item\n",
    "best_employee([(\"Zbby\",100),(\"A\",340),(\"A\",200)])"
   ]
  },
  {
   "cell_type": "code",
   "execution_count": 32,
   "metadata": {},
   "outputs": [
    {
     "data": {
      "text/plain": [
       "0.132"
      ]
     },
     "execution_count": 32,
     "metadata": {},
     "output_type": "execute_result"
    }
   ],
   "source": [
    "def add(a=0,b=0,c=0,d=0):\n",
    "    return sum((a,b,c,d))*0.044\n",
    "add(1,2)"
   ]
  },
  {
   "cell_type": "code",
   "execution_count": 34,
   "metadata": {},
   "outputs": [
    {
     "name": "stdout",
     "output_type": "stream",
     "text": [
      "(1, 2, 3, 4, 5, 2, 23, 32, 1, 1)\n",
      "1\n",
      "2\n",
      "3\n",
      "5\n",
      "2\n",
      "23\n",
      "1\n",
      "1\n"
     ]
    }
   ],
   "source": [
    "# what if i want multiple arguments without having to define them explicitly\n",
    "def printPrimes(*args):\n",
    "    print(args)\n",
    "    [print(i) for i in args if isPrime(i)]\n",
    "printPrimes(1,2,3,4,5,2,23,32,1,1)"
   ]
  },
  {
   "cell_type": "code",
   "execution_count": 36,
   "metadata": {},
   "outputs": [
    {
     "data": {
      "text/plain": [
       "[55, 45]"
      ]
     },
     "execution_count": 36,
     "metadata": {},
     "output_type": "execute_result"
    }
   ],
   "source": [
    "# * args - allows us to take an arbitrary number of constants as parameters to a function\n",
    "# **kwargs - allows us to take an arbitrary number of keyed values\n",
    "def deivisibleBy5(*args):\n",
    "    return [num for num in args if num%5==0]\n",
    "deivisibleBy5(34,55,66,23,45)"
   ]
  },
  {
   "cell_type": "code",
   "execution_count": 37,
   "metadata": {},
   "outputs": [],
   "source": [
    "def favouriteFruit(**kwargs):\n",
    "    [print(f\"{a}'s favourite fruit is {b}\") for (a,b) in kwargs.items()]"
   ]
  },
  {
   "cell_type": "code",
   "execution_count": 38,
   "metadata": {},
   "outputs": [
    {
     "name": "stdout",
     "output_type": "stream",
     "text": [
      "somnee's favourite fruit is apple\n",
      "joe's favourite fruit is Mango\n",
      "soma's favourite fruit is pear\n"
     ]
    }
   ],
   "source": [
    "favouriteFruit(somnee=\"apple\",joe=\"Mango\",soma=\"pear\")"
   ]
  },
  {
   "cell_type": "code",
   "execution_count": 44,
   "metadata": {},
   "outputs": [
    {
     "data": {
      "text/plain": [
       "True"
      ]
     },
     "execution_count": 44,
     "metadata": {},
     "output_type": "execute_result"
    }
   ],
   "source": [
    "def myfunc(s):\n",
    "     i=1\n",
    "     l=\"\"\n",
    "     for ch in s:\n",
    "         l+= (ch.upper() if i%2==0 else ch.lower())\n",
    "         i+=1\n",
    "     return str(l)\n",
    "myfunc('Anthropomorphism')=='aNtHrOpOmOrPhIsM'\n"
   ]
  },
  {
   "cell_type": "code",
   "execution_count": null,
   "metadata": {},
   "outputs": [],
   "source": []
  }
 ],
 "metadata": {
  "kernelspec": {
   "display_name": "Python 3",
   "language": "python",
   "name": "python3"
  },
  "language_info": {
   "codemirror_mode": {
    "name": "ipython",
    "version": 3
   },
   "file_extension": ".py",
   "mimetype": "text/x-python",
   "name": "python",
   "nbconvert_exporter": "python",
   "pygments_lexer": "ipython3",
   "version": "3.10.6"
  },
  "orig_nbformat": 4
 },
 "nbformat": 4,
 "nbformat_minor": 2
}

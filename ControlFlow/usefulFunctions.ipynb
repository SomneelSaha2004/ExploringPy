{
 "cells": [
  {
   "cell_type": "code",
   "execution_count": 1,
   "metadata": {},
   "outputs": [
    {
     "name": "stdout",
     "output_type": "stream",
     "text": [
      "0\n",
      "23\n",
      "46\n",
      "69\n",
      "92\n"
     ]
    }
   ],
   "source": [
    "for num in range(0,100,23):\n",
    "    print(num)"
   ]
  },
  {
   "cell_type": "code",
   "execution_count": 4,
   "metadata": {},
   "outputs": [
    {
     "name": "stdout",
     "output_type": "stream",
     "text": [
      "9 x 0 =0\n",
      "9 x 1 =9\n",
      "9 x 2 =18\n",
      "9 x 3 =27\n",
      "9 x 4 =36\n",
      "9 x 5 =45\n",
      "9 x 6 =54\n",
      "9 x 7 =63\n",
      "9 x 8 =72\n",
      "9 x 9 =81\n"
     ]
    }
   ],
   "source": [
    "def table(n):\n",
    "    i=0\n",
    "    for num in range(0,n*10,n):\n",
    "        print(f\"{n} x {i} ={num}\")\n",
    "        i+=1\n",
    "table(9)"
   ]
  },
  {
   "cell_type": "code",
   "execution_count": 16,
   "metadata": {},
   "outputs": [],
   "source": [
    "l=list(range(0,10,3))"
   ]
  },
  {
   "cell_type": "code",
   "execution_count": 15,
   "metadata": {},
   "outputs": [
    {
     "name": "stdout",
     "output_type": "stream",
     "text": [
      "(0, 0)\n",
      "(1, 1)\n",
      "(2, 2)\n",
      "(3, 3)\n",
      "(4, 4)\n",
      "(5, 5)\n",
      "(6, 6)\n",
      "(7, 7)\n",
      "(8, 8)\n",
      "(9, 9)\n"
     ]
    }
   ],
   "source": [
    "#enumerate function\n",
    "for  in enumerate(l):\n",
    "    print(item)"
   ]
  },
  {
   "cell_type": "code",
   "execution_count": 18,
   "metadata": {},
   "outputs": [
    {
     "name": "stdout",
     "output_type": "stream",
     "text": [
      "0 --> H\n",
      "1 --> e\n",
      "2 --> l\n",
      "3 --> l\n",
      "4 --> o\n",
      "5 -->  \n",
      "6 --> W\n",
      "7 --> o\n",
      "8 --> r\n",
      "9 --> l\n",
      "10 --> d\n",
      "11 --> !\n"
     ]
    }
   ],
   "source": [
    "for i,ch in enumerate(\"Hello World!\"):\n",
    "    print(f\"{i} --> {ch}\")"
   ]
  },
  {
   "cell_type": "code",
   "execution_count": 21,
   "metadata": {},
   "outputs": [
    {
     "name": "stdout",
     "output_type": "stream",
     "text": [
      "[(1, 0.3, 'a'), (2, 3, 'b'), (3, 2, 'c')]\n"
     ]
    }
   ],
   "source": [
    "#zip function to 'zip' lists into a single list with tuples\n",
    "x=[1,2,3,4]\n",
    "y=[0.3,3,2,3,1,2]\n",
    "z=[\"a\",\"b\",\"c\"]\n",
    "coordinates=list(zip(x,y,z))\n",
    "print(coordinates)"
   ]
  },
  {
   "cell_type": "code",
   "execution_count": 23,
   "metadata": {},
   "outputs": [
    {
     "name": "stdout",
     "output_type": "stream",
     "text": [
      "1.3a\n",
      "5b\n",
      "5c\n"
     ]
    }
   ],
   "source": [
    "for a,b,c in zip(x,y,z):\n",
    "    print(str(a+b)+c)"
   ]
  },
  {
   "cell_type": "code",
   "execution_count": 25,
   "metadata": {},
   "outputs": [
    {
     "data": {
      "text/plain": [
       "(3, 2, 'c')"
      ]
     },
     "execution_count": 25,
     "metadata": {},
     "output_type": "execute_result"
    }
   ],
   "source": [
    "max(coordinates)"
   ]
  },
  {
   "cell_type": "code",
   "execution_count": 27,
   "metadata": {},
   "outputs": [
    {
     "name": "stdout",
     "output_type": "stream",
     "text": [
      "['a', 'e', 'i', 'x'] --> x\n"
     ]
    }
   ],
   "source": [
    "l=[\"a\",\"e\",\"i\",\"x\"]\n",
    "l.sort()\n",
    "print(f\"{l} --> {max(l)}\")"
   ]
  },
  {
   "cell_type": "code",
   "execution_count": 28,
   "metadata": {},
   "outputs": [],
   "source": [
    "from random import shuffle,randint"
   ]
  },
  {
   "cell_type": "code",
   "execution_count": 31,
   "metadata": {},
   "outputs": [
    {
     "data": {
      "text/plain": [
       "45"
      ]
     },
     "execution_count": 31,
     "metadata": {},
     "output_type": "execute_result"
    }
   ],
   "source": [
    "l=[1,2,3,45,5,6,2,34]\n",
    "shuffle(l)\n",
    "l[randint(0,len(l))]"
   ]
  },
  {
   "cell_type": "code",
   "execution_count": null,
   "metadata": {},
   "outputs": [],
   "source": []
  }
 ],
 "metadata": {
  "kernelspec": {
   "display_name": "Python 3",
   "language": "python",
   "name": "python3"
  },
  "language_info": {
   "codemirror_mode": {
    "name": "ipython",
    "version": 3
   },
   "file_extension": ".py",
   "mimetype": "text/x-python",
   "name": "python",
   "nbconvert_exporter": "python",
   "pygments_lexer": "ipython3",
   "version": "3.10.6"
  },
  "orig_nbformat": 4
 },
 "nbformat": 4,
 "nbformat_minor": 2
}

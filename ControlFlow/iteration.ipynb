{
 "cells": [
  {
   "cell_type": "code",
   "execution_count": 2,
   "metadata": {},
   "outputs": [
    {
     "name": "stdout",
     "output_type": "stream",
     "text": [
      "a : 0\n",
      "e : 1\n",
      "o : 2\n",
      "i : 0\n",
      "u : 0\n"
     ]
    }
   ],
   "source": [
    "def countVowels(s):\n",
    "    s=s.lower()\n",
    "    count=[0,0,0,0,0]\n",
    "    vowels={\"a\":0,\"e\":0,\"o\":0,\"i\":0,\"u\":0}\n",
    "    for ch in s:\n",
    "        if ch in \"aeiou\":\n",
    "            vowels[ch]+=1\n",
    "    \n",
    "    for k in vowels.keys():\n",
    "        print(f\"{k} : {vowels[k]}\")\n",
    "\n",
    "countVowels(\"Hello World!\")"
   ]
  },
  {
   "cell_type": "code",
   "execution_count": 3,
   "metadata": {},
   "outputs": [
    {
     "data": {
      "text/plain": [
       "True"
      ]
     },
     "execution_count": 3,
     "metadata": {},
     "output_type": "execute_result"
    }
   ],
   "source": [
    "def isPrime(n):\n",
    "    for i in range(2,n):\n",
    "        if(n%i==0):\n",
    "            return False\n",
    "    return True\n",
    "isPrime(23)"
   ]
  },
  {
   "cell_type": "code",
   "execution_count": 5,
   "metadata": {},
   "outputs": [
    {
     "name": "stdout",
     "output_type": "stream",
     "text": [
      "Fizz\n",
      "Buzz\n",
      "Fizz\n",
      "Fizz\n",
      "Buzz\n",
      "Fizz\n",
      "Fizz\n"
     ]
    }
   ],
   "source": [
    "def FizzBuzz(start,end):\n",
    "    for i in range(start,end+1):\n",
    "        if i%3==0:\n",
    "            print(\"Fizz\")\n",
    "        elif i%5==0:\n",
    "            print(\"Buzz\")\n",
    "        elif i%3==0 and i%5==0 :\n",
    "            print(\"FizzBuzz\")\n",
    "FizzBuzz(2,16)"
   ]
  },
  {
   "cell_type": "code",
   "execution_count": 8,
   "metadata": {},
   "outputs": [],
   "source": [
    "l=[1,2,34]+[1,2,34]"
   ]
  },
  {
   "cell_type": "code",
   "execution_count": 19,
   "metadata": {},
   "outputs": [
    {
     "name": "stdout",
     "output_type": "stream",
     "text": [
      "36\n",
      "7\n",
      "11\n"
     ]
    }
   ],
   "source": [
    "# tuple unpacking\n",
    "l=[(34,2),(3,4),(5,6)]\n",
    "for (a,b) in l:\n",
    "    print(a+b)"
   ]
  },
  {
   "cell_type": "code",
   "execution_count": 15,
   "metadata": {},
   "outputs": [
    {
     "name": "stdout",
     "output_type": "stream",
     "text": [
      "a --> 1\n",
      "e --> 2\n",
      "o --> 3\n",
      "i --> 0\n",
      "u --> 0\n"
     ]
    }
   ],
   "source": [
    "vowels={\"a\":1,\"e\":2,\"o\":3,\"i\":0,\"u\":0}\n",
    "for (k,v) in vowels.items():\n",
    "    print(f\"{k} --> {v}\")"
   ]
  },
  {
   "cell_type": "code",
   "execution_count": 20,
   "metadata": {},
   "outputs": [
    {
     "name": "stdout",
     "output_type": "stream",
     "text": [
      "[(3, 4), (5, 6), (34, 2)]\n"
     ]
    }
   ],
   "source": [
    "l.sort()\n",
    "print(l)"
   ]
  },
  {
   "cell_type": "code",
   "execution_count": 23,
   "metadata": {},
   "outputs": [
    {
     "name": "stdout",
     "output_type": "stream",
     "text": [
      "37\n",
      "41\n",
      "43\n",
      "47\n",
      "53\n",
      "59\n",
      "61\n",
      "67\n",
      "71\n",
      "73\n",
      "79\n",
      "83\n",
      "89\n",
      "97\n",
      "101\n",
      "103\n",
      "107\n",
      "109\n",
      "113\n",
      "127\n",
      "131\n",
      "137\n",
      "139\n",
      "149\n",
      "Done Printing\n"
     ]
    }
   ],
   "source": [
    "def printPrimes(start,end):\n",
    "    while start<=end:\n",
    "        if isPrime(start):\n",
    "            print(start)\n",
    "        start+=1\n",
    "    else:\n",
    "        print(\"Done Printing\")\n",
    "printPrimes(34,150)"
   ]
  },
  {
   "cell_type": "code",
   "execution_count": null,
   "metadata": {},
   "outputs": [],
   "source": []
  }
 ],
 "metadata": {
  "kernelspec": {
   "display_name": "Python 3",
   "language": "python",
   "name": "python3"
  },
  "language_info": {
   "codemirror_mode": {
    "name": "ipython",
    "version": 3
   },
   "file_extension": ".py",
   "mimetype": "text/x-python",
   "name": "python",
   "nbconvert_exporter": "python",
   "pygments_lexer": "ipython3",
   "version": "3.10.6"
  },
  "orig_nbformat": 4
 },
 "nbformat": 4,
 "nbformat_minor": 2
}

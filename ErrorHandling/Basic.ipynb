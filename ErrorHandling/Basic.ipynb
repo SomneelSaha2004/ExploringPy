{
 "cells": [
  {
   "cell_type": "code",
   "execution_count": 1,
   "metadata": {},
   "outputs": [
    {
     "name": "stdout",
     "output_type": "stream",
     "text": [
      "There was an error\n"
     ]
    }
   ],
   "source": [
    "# we can catch errors using try- except blocks\n",
    "cbr=lambda n:n**(1/3)\n",
    "try:\n",
    "    num=input(\"Num\")\n",
    "    cbr(num)\n",
    "except:\n",
    "    print(\"There was an error\")\n",
    "else:\n",
    "    print(\"Successful!\")"
   ]
  },
  {
   "cell_type": "code",
   "execution_count": 3,
   "metadata": {},
   "outputs": [
    {
     "name": "stdout",
     "output_type": "stream",
     "text": [
      "<class 'OSError'>\n",
      "Always runs\n"
     ]
    }
   ],
   "source": [
    "# with FileIO errors may occur\n",
    "try:\n",
    "    f=open(\"text.txt\",\"r\")\n",
    "    f.write(\"Hello\")\n",
    "except OSError:# we can catch specific errors\n",
    "    print(OSError)\n",
    "finally:#will always be executed\n",
    "    print(\"Always runs\")"
   ]
  },
  {
   "cell_type": "code",
   "execution_count": null,
   "metadata": {},
   "outputs": [],
   "source": []
  }
 ],
 "metadata": {
  "kernelspec": {
   "display_name": "Python 3",
   "language": "python",
   "name": "python3"
  },
  "language_info": {
   "codemirror_mode": {
    "name": "ipython",
    "version": 3
   },
   "file_extension": ".py",
   "mimetype": "text/x-python",
   "name": "python",
   "nbconvert_exporter": "python",
   "pygments_lexer": "ipython3",
   "version": "3.10.6"
  },
  "orig_nbformat": 4
 },
 "nbformat": 4,
 "nbformat_minor": 2
}

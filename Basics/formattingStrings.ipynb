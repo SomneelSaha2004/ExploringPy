{
 "cells": [
  {
   "cell_type": "code",
   "execution_count": 4,
   "metadata": {},
   "outputs": [
    {
     "name": "stdout",
     "output_type": "stream",
     "text": [
      "Hey Drake ur a POS\n"
     ]
    }
   ],
   "source": [
    "name=input(\"Whats your name?\")\n",
    "greeting=\"Hey {} ur a POS\".format(name)\n",
    "print(greeting)"
   ]
  },
  {
   "cell_type": "code",
   "execution_count": 2,
   "metadata": {},
   "outputs": [
    {
     "name": "stdout",
     "output_type": "stream",
     "text": [
      "<class 'int'>\n"
     ]
    }
   ],
   "source": [
    "age=143\n",
    "sex=\"male\"\n",
    "race=\"unicorn\"\n",
    "greeting=4\n",
    "print(type(greeting))"
   ]
  },
  {
   "cell_type": "code",
   "execution_count": 6,
   "metadata": {},
   "outputs": [],
   "source": [
    "greeting=\"Age : {}\\nsex : {}\\n name : {}\\n\".format(age,sex,name)"
   ]
  },
  {
   "cell_type": "code",
   "execution_count": 7,
   "metadata": {},
   "outputs": [
    {
     "name": "stdout",
     "output_type": "stream",
     "text": [
      "Age : 143\n",
      "sex : male\n",
      " name : Drake\n",
      "\n"
     ]
    }
   ],
   "source": [
    "print(greeting)"
   ]
  },
  {
   "cell_type": "code",
   "execution_count": 8,
   "metadata": {},
   "outputs": [
    {
     "name": "stdout",
     "output_type": "stream",
     "text": [
      "Say punk three times Drake Drake Drake\n"
     ]
    }
   ],
   "source": [
    "#we can use indexing in strings also\n",
    "greeting=\"Say punk three times {0} {0} {0}\".format(name,sex,age)\n",
    "print(greeting)"
   ]
  },
  {
   "cell_type": "code",
   "execution_count": 13,
   "metadata": {},
   "outputs": [
    {
     "name": "stdout",
     "output_type": "stream",
     "text": [
      "list : [1, 2, 3, 4, 5, 6]\n",
      " age : 23\n",
      " name : somneel\n",
      "\n"
     ]
    }
   ],
   "source": [
    "# while formatting we can also use variable names\n",
    "luli=[1,2,3,4,5,6];age=23;name=\"somneel\"\n",
    "greeting=\"list : {l}\\n age : {a}\\n name : {n}\\n\".format(a=age,n=name,l=luli)\n",
    "print(greeting)"
   ]
  },
  {
   "cell_type": "code",
   "execution_count": 18,
   "metadata": {},
   "outputs": [
    {
     "name": "stdout",
     "output_type": "stream",
     "text": [
      "Result : 3.142857142857143\n",
      "3.1428571428571427937015414499910548329353332519531250000000000000000000000000000000000000000000000000\n"
     ]
    }
   ],
   "source": [
    "result=22/7\n",
    "print(\"Result : {}\".format(result))\n",
    "#there are ways to format the way decimals are printed {value:width.precisionf}\n",
    "print(\"{r:1.100f}\".format(r=result))"
   ]
  },
  {
   "cell_type": "code",
   "execution_count": 20,
   "metadata": {},
   "outputs": [
    {
     "name": "stdout",
     "output_type": "stream",
     "text": [
      "Age : 23\n",
      "name : WILLY WONKA\n",
      "List : [1, 2, 3, 4, 5, 6]\n"
     ]
    }
   ],
   "source": [
    "# now lets explore a better methdo called f-strings\n",
    "age=23;name=\"WILLY WONKA\";l=[1,2,3,4,5,6]\n",
    "s=f\"Age : {age}\\nname : {name}\\nList : {l}\"\n",
    "print(s)"
   ]
  },
  {
   "cell_type": "code",
   "execution_count": null,
   "metadata": {},
   "outputs": [],
   "source": []
  }
 ],
 "metadata": {
  "kernelspec": {
   "display_name": "Python 3",
   "language": "python",
   "name": "python3"
  },
  "language_info": {
   "codemirror_mode": {
    "name": "ipython",
    "version": 3
   },
   "file_extension": ".py",
   "mimetype": "text/x-python",
   "name": "python",
   "nbconvert_exporter": "python",
   "pygments_lexer": "ipython3",
   "version": "3.10.6"
  },
  "orig_nbformat": 4
 },
 "nbformat": 4,
 "nbformat_minor": 2
}

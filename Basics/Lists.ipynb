{
 "cells": [
  {
   "cell_type": "code",
   "execution_count": 1,
   "metadata": {},
   "outputs": [
    {
     "name": "stdout",
     "output_type": "stream",
     "text": [
      "[1, 2, 3.4, 'Hello World', [1, 2, 3]]\n"
     ]
    }
   ],
   "source": [
    "# lists are very flexible they can store any data type\n",
    "l=[1,2,3.4,\"Hello World\",[1,2,3]]\n",
    "print(l)"
   ]
  },
  {
   "cell_type": "code",
   "execution_count": 2,
   "metadata": {},
   "outputs": [
    {
     "data": {
      "text/plain": [
       "5"
      ]
     },
     "execution_count": 2,
     "metadata": {},
     "output_type": "execute_result"
    }
   ],
   "source": [
    "len(l)"
   ]
  },
  {
   "cell_type": "code",
   "execution_count": 8,
   "metadata": {},
   "outputs": [
    {
     "name": "stdout",
     "output_type": "stream",
     "text": [
      "[[1, 2, 3], 'Hello World', 3.4, 2, 1]\n",
      "[2, 'Hello World']\n"
     ]
    }
   ],
   "source": [
    "#indexing and slicing\n",
    "print(l[::-1])\n",
    "print(l[1:4:2])"
   ]
  },
  {
   "cell_type": "code",
   "execution_count": 23,
   "metadata": {},
   "outputs": [
    {
     "name": "stdout",
     "output_type": "stream",
     "text": [
      "[1, 2, 3.4, 'Hello World', [1, 2, 3], [1, 2, 3], 'Hello World', 3.4, 2, 1, 2]\n"
     ]
    }
   ],
   "source": [
    "ll=l+l[::-1]+l[1:2:3]\n",
    "print(ll)"
   ]
  },
  {
   "cell_type": "code",
   "execution_count": 13,
   "metadata": {},
   "outputs": [
    {
     "name": "stdout",
     "output_type": "stream",
     "text": [
      "[\"[1, 2, 3.4, 'Hello World', [1, 2, 3], [1, 2, 3], 'Hello World', 3.4, 2, 1, 2]\", 2, 3.4, 'Hello World', [1, 2, 3], [1, 2, 3], 'Hello World', 3.4, 2, 1, 2]\n"
     ]
    }
   ],
   "source": [
    "#lists are mutable\n",
    "ll[0]=\"{}\".format(ll)\n",
    "print(ll)"
   ]
  },
  {
   "cell_type": "code",
   "execution_count": 26,
   "metadata": {},
   "outputs": [],
   "source": [
    "l=[1,2,3,1,1,2]\n",
    "l.append(34)\n"
   ]
  },
  {
   "cell_type": "code",
   "execution_count": 27,
   "metadata": {},
   "outputs": [
    {
     "name": "stdout",
     "output_type": "stream",
     "text": [
      "[1, 2, 3, 1, 1, 2, 34]\n"
     ]
    }
   ],
   "source": [
    "print(l)"
   ]
  },
  {
   "cell_type": "code",
   "execution_count": 30,
   "metadata": {},
   "outputs": [
    {
     "name": "stdout",
     "output_type": "stream",
     "text": [
      "None\n",
      "3\n",
      "[1, 1, 1, 2, 2]\n"
     ]
    }
   ],
   "source": [
    "print(l.sort())\n",
    "print(l.pop())\n",
    "print(l)"
   ]
  },
  {
   "cell_type": "code",
   "execution_count": 31,
   "metadata": {},
   "outputs": [],
   "source": [
    "popped=l.pop()"
   ]
  },
  {
   "cell_type": "code",
   "execution_count": 32,
   "metadata": {},
   "outputs": [
    {
     "name": "stdout",
     "output_type": "stream",
     "text": [
      "2 [1, 1, 1, 2]\n"
     ]
    }
   ],
   "source": [
    "print(f\"{popped} {l}\")"
   ]
  },
  {
   "cell_type": "code",
   "execution_count": 33,
   "metadata": {},
   "outputs": [
    {
     "name": "stdout",
     "output_type": "stream",
     "text": [
      "2\n"
     ]
    }
   ],
   "source": [
    "print(l.pop(3))"
   ]
  },
  {
   "cell_type": "code",
   "execution_count": 35,
   "metadata": {},
   "outputs": [],
   "source": [
    "l.remove(1)"
   ]
  },
  {
   "cell_type": "code",
   "execution_count": 36,
   "metadata": {},
   "outputs": [
    {
     "data": {
      "text/plain": [
       "[1, 1]"
      ]
     },
     "execution_count": 36,
     "metadata": {},
     "output_type": "execute_result"
    }
   ],
   "source": [
    "l"
   ]
  },
  {
   "cell_type": "code",
   "execution_count": 37,
   "metadata": {},
   "outputs": [
    {
     "name": "stdout",
     "output_type": "stream",
     "text": [
      " enter the items you wish to add after the prompt\n",
      "Enter quit to quit the program\n",
      "['', '', ['', '', 'asaqweqw3', 'qwqw', 'qw', '', 'qw', 'quit()']]\n"
     ]
    }
   ],
   "source": [
    "def grocery_list():\n",
    "    name=input(\"Enter name : \")\n",
    "    age=input(\"Enter age : \");items=[]\n",
    "    print(f\"{name} enter the items you wish to add after the prompt\")\n",
    "    details=[name,age,items]\n",
    "    print(\"Enter quit to quit the program\")\n",
    "    while(True):\n",
    "        i=input(\"> \")\n",
    "        if(i==\"quit\"):\n",
    "            break\n",
    "        items.append(i)\n",
    "    print(details)\n",
    "grocery_list()"
   ]
  },
  {
   "cell_type": "code",
   "execution_count": 38,
   "metadata": {},
   "outputs": [
    {
     "name": "stdout",
     "output_type": "stream",
     "text": [
      "['Hello Nice', 'Hello World', 'Oh my god wow'] None\n"
     ]
    }
   ],
   "source": [
    "l=[\"Hello World\",\"Oh my god wow\",\"Hello Nice\"]\n",
    "#sort happens in place --> does not return anything\n",
    "ll=l.sort()\n",
    "print(f\"{l} {ll}\")"
   ]
  },
  {
   "cell_type": "code",
   "execution_count": null,
   "metadata": {},
   "outputs": [],
   "source": []
  }
 ],
 "metadata": {
  "kernelspec": {
   "display_name": "Python 3",
   "language": "python",
   "name": "python3"
  },
  "language_info": {
   "codemirror_mode": {
    "name": "ipython",
    "version": 3
   },
   "file_extension": ".py",
   "mimetype": "text/x-python",
   "name": "python",
   "nbconvert_exporter": "python",
   "pygments_lexer": "ipython3",
   "version": "3.10.6"
  },
  "orig_nbformat": 4
 },
 "nbformat": 4,
 "nbformat_minor": 2
}

{
 "cells": [
  {
   "cell_type": "code",
   "execution_count": 1,
   "metadata": {},
   "outputs": [
    {
     "name": "stdout",
     "output_type": "stream",
     "text": [
      "{'name': 'somneel', 'age': 23, 'sex': 'male'}\n"
     ]
    }
   ],
   "source": [
    "# making a dictionary\n",
    "d={\"name\":\"somneel\",\"age\":23,\"sex\":\"male\"}\n",
    "print(d)"
   ]
  },
  {
   "cell_type": "code",
   "execution_count": 2,
   "metadata": {},
   "outputs": [
    {
     "data": {
      "text/plain": [
       "'somneel'"
      ]
     },
     "execution_count": 2,
     "metadata": {},
     "output_type": "execute_result"
    }
   ],
   "source": [
    "# we can acess directly using keys\n",
    "d[\"name\"]"
   ]
  },
  {
   "cell_type": "code",
   "execution_count": 5,
   "metadata": {},
   "outputs": [
    {
     "name": "stdout",
     "output_type": "stream",
     "text": [
      "{'coke': 1, 'pepsi': 2, 'sugar': 3, 'salt': 4}\n"
     ]
    }
   ],
   "source": [
    "#another way to initialise\n",
    "names=[\"coke\",\"pepsi\",\"sugar\",\"salt\"]\n",
    "prices=[1,2,3,4]\n",
    "d={}\n",
    "i=0\n",
    "for name in names:\n",
    "    d[name]=prices[i]\n",
    "    i+=1\n",
    "print(d)"
   ]
  },
  {
   "cell_type": "code",
   "execution_count": 6,
   "metadata": {},
   "outputs": [],
   "source": [
    "#to add an item \n",
    "d[\"cereal\"]=34"
   ]
  },
  {
   "cell_type": "code",
   "execution_count": 7,
   "metadata": {},
   "outputs": [
    {
     "data": {
      "text/plain": [
       "{'coke': 1, 'pepsi': 2, 'sugar': 3, 'salt': 4, 'cereal': 34}"
      ]
     },
     "execution_count": 7,
     "metadata": {},
     "output_type": "execute_result"
    }
   ],
   "source": []
  },
  {
   "cell_type": "code",
   "execution_count": 12,
   "metadata": {},
   "outputs": [],
   "source": [
    "#we can insert lists and dictionaries in each other\n",
    "l=[1,2,4,{\"k1\":1,\"k2\":2}]\n",
    "d={\"k1\":[1,2,3],\"k2\":1}"
   ]
  },
  {
   "cell_type": "code",
   "execution_count": 15,
   "metadata": {},
   "outputs": [
    {
     "data": {
      "text/plain": [
       "2"
      ]
     },
     "execution_count": 15,
     "metadata": {},
     "output_type": "execute_result"
    }
   ],
   "source": [
    "l[3][\"k1\"]+d[\"k1\"][0]\n"
   ]
  },
  {
   "cell_type": "code",
   "execution_count": 18,
   "metadata": {},
   "outputs": [
    {
     "name": "stdout",
     "output_type": "stream",
     "text": [
      "{'k1': ['a', 'b', 'C']}\n"
     ]
    }
   ],
   "source": [
    "d={\"k1\":['a','b','c']}\n",
    "d[\"k1\"][2]=d[\"k1\"][2].upper()\n",
    "print(d)"
   ]
  },
  {
   "cell_type": "code",
   "execution_count": 17,
   "metadata": {},
   "outputs": [
    {
     "name": "stdout",
     "output_type": "stream",
     "text": [
      "{'k1': ['a', 'b', 'c']}\n"
     ]
    }
   ],
   "source": []
  },
  {
   "cell_type": "code",
   "execution_count": 19,
   "metadata": {},
   "outputs": [
    {
     "name": "stdout",
     "output_type": "stream",
     "text": [
      "['a', 'b', 'C']\n"
     ]
    }
   ],
   "source": [
    "# to loop through a dictionary\n",
    "for key in d.keys():\n",
    "    print(d[key])"
   ]
  },
  {
   "cell_type": "code",
   "execution_count": 20,
   "metadata": {},
   "outputs": [
    {
     "name": "stdout",
     "output_type": "stream",
     "text": [
      "['a', 'b', 'C']\n"
     ]
    }
   ],
   "source": [
    "#to get the values directly\n",
    "for val in d.values():\n",
    "    print(val)\n",
    "#and to directly get the \n"
   ]
  },
  {
   "cell_type": "code",
   "execution_count": 22,
   "metadata": {},
   "outputs": [
    {
     "name": "stdout",
     "output_type": "stream",
     "text": [
      "('k1', ['a', 'b', 'C'])\n"
     ]
    }
   ],
   "source": [
    "#to get all the values\n",
    "for item in d.items():\n",
    "    print(item)"
   ]
  },
  {
   "cell_type": "code",
   "execution_count": null,
   "metadata": {},
   "outputs": [],
   "source": []
  }
 ],
 "metadata": {
  "kernelspec": {
   "display_name": "Python 3",
   "language": "python",
   "name": "python3"
  },
  "language_info": {
   "codemirror_mode": {
    "name": "ipython",
    "version": 3
   },
   "file_extension": ".py",
   "mimetype": "text/x-python",
   "name": "python",
   "nbconvert_exporter": "python",
   "pygments_lexer": "ipython3",
   "version": "3.10.6"
  },
  "orig_nbformat": 4
 },
 "nbformat": 4,
 "nbformat_minor": 2
}
